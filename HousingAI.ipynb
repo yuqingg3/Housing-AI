{
  "nbformat": 4,
  "nbformat_minor": 0,
  "metadata": {
    "colab": {
      "provenance": [],
      "toc_visible": true,
      "include_colab_link": true
    },
    "kernelspec": {
      "name": "python3",
      "display_name": "Python 3"
    },
    "language_info": {
      "name": "python"
    }
  },
  "cells": [
    {
      "cell_type": "markdown",
      "metadata": {
        "id": "view-in-github",
        "colab_type": "text"
      },
      "source": [
        "<a href=\"https://colab.research.google.com/github/yuqingg3/Housing-AI/blob/main/HousingAI.ipynb\" target=\"_parent\"><img src=\"https://colab.research.google.com/assets/colab-badge.svg\" alt=\"Open In Colab\"/></a>"
      ]
    },
    {
      "cell_type": "code",
      "execution_count": 7,
      "metadata": {
        "id": "XmcbXha_VLH8"
      },
      "outputs": [],
      "source": [
        "import pandas as pd\n",
        "\n",
        "from sklearn.model_selection import train_test_split\n",
        "from sklearn.linear_model import LinearRegression\n",
        "from sklearn.metrics import mean_squared_error\n",
        "from sklearn import datasets, ensemble\n",
        "import matplotlib.pyplot as plt\n",
        "import math\n"
      ]
    },
    {
      "cell_type": "code",
      "source": [
        "df = pd.read_csv(r'/content/sample_data/california_housing_test.csv')\n",
        "this_df=df[[\"median_house_value\",\"total_rooms\"]]\n"
      ],
      "metadata": {
        "id": "A2h52k2JYMmO"
      },
      "execution_count": 8,
      "outputs": []
    },
    {
      "cell_type": "code",
      "source": [
        "df.head()"
      ],
      "metadata": {
        "colab": {
          "base_uri": "https://localhost:8080/",
          "height": 226
        },
        "id": "BlueNkn2aNlk",
        "outputId": "5ca4d649-33c4-4e44-9000-e319abbd5c4d"
      },
      "execution_count": 9,
      "outputs": [
        {
          "output_type": "execute_result",
          "data": {
            "text/plain": [
              "   longitude  latitude  housing_median_age  total_rooms  total_bedrooms  \\\n",
              "0    -122.05     37.37                27.0       3885.0           661.0   \n",
              "1    -118.30     34.26                43.0       1510.0           310.0   \n",
              "2    -117.81     33.78                27.0       3589.0           507.0   \n",
              "3    -118.36     33.82                28.0         67.0            15.0   \n",
              "4    -119.67     36.33                19.0       1241.0           244.0   \n",
              "\n",
              "   population  households  median_income  median_house_value  \n",
              "0      1537.0       606.0         6.6085            344700.0  \n",
              "1       809.0       277.0         3.5990            176500.0  \n",
              "2      1484.0       495.0         5.7934            270500.0  \n",
              "3        49.0        11.0         6.1359            330000.0  \n",
              "4       850.0       237.0         2.9375             81700.0  "
            ],
            "text/html": [
              "\n",
              "  <div id=\"df-d958a5e8-549e-4e5a-8b9f-1d488fb56a18\" class=\"colab-df-container\">\n",
              "    <div>\n",
              "<style scoped>\n",
              "    .dataframe tbody tr th:only-of-type {\n",
              "        vertical-align: middle;\n",
              "    }\n",
              "\n",
              "    .dataframe tbody tr th {\n",
              "        vertical-align: top;\n",
              "    }\n",
              "\n",
              "    .dataframe thead th {\n",
              "        text-align: right;\n",
              "    }\n",
              "</style>\n",
              "<table border=\"1\" class=\"dataframe\">\n",
              "  <thead>\n",
              "    <tr style=\"text-align: right;\">\n",
              "      <th></th>\n",
              "      <th>longitude</th>\n",
              "      <th>latitude</th>\n",
              "      <th>housing_median_age</th>\n",
              "      <th>total_rooms</th>\n",
              "      <th>total_bedrooms</th>\n",
              "      <th>population</th>\n",
              "      <th>households</th>\n",
              "      <th>median_income</th>\n",
              "      <th>median_house_value</th>\n",
              "    </tr>\n",
              "  </thead>\n",
              "  <tbody>\n",
              "    <tr>\n",
              "      <th>0</th>\n",
              "      <td>-122.05</td>\n",
              "      <td>37.37</td>\n",
              "      <td>27.0</td>\n",
              "      <td>3885.0</td>\n",
              "      <td>661.0</td>\n",
              "      <td>1537.0</td>\n",
              "      <td>606.0</td>\n",
              "      <td>6.6085</td>\n",
              "      <td>344700.0</td>\n",
              "    </tr>\n",
              "    <tr>\n",
              "      <th>1</th>\n",
              "      <td>-118.30</td>\n",
              "      <td>34.26</td>\n",
              "      <td>43.0</td>\n",
              "      <td>1510.0</td>\n",
              "      <td>310.0</td>\n",
              "      <td>809.0</td>\n",
              "      <td>277.0</td>\n",
              "      <td>3.5990</td>\n",
              "      <td>176500.0</td>\n",
              "    </tr>\n",
              "    <tr>\n",
              "      <th>2</th>\n",
              "      <td>-117.81</td>\n",
              "      <td>33.78</td>\n",
              "      <td>27.0</td>\n",
              "      <td>3589.0</td>\n",
              "      <td>507.0</td>\n",
              "      <td>1484.0</td>\n",
              "      <td>495.0</td>\n",
              "      <td>5.7934</td>\n",
              "      <td>270500.0</td>\n",
              "    </tr>\n",
              "    <tr>\n",
              "      <th>3</th>\n",
              "      <td>-118.36</td>\n",
              "      <td>33.82</td>\n",
              "      <td>28.0</td>\n",
              "      <td>67.0</td>\n",
              "      <td>15.0</td>\n",
              "      <td>49.0</td>\n",
              "      <td>11.0</td>\n",
              "      <td>6.1359</td>\n",
              "      <td>330000.0</td>\n",
              "    </tr>\n",
              "    <tr>\n",
              "      <th>4</th>\n",
              "      <td>-119.67</td>\n",
              "      <td>36.33</td>\n",
              "      <td>19.0</td>\n",
              "      <td>1241.0</td>\n",
              "      <td>244.0</td>\n",
              "      <td>850.0</td>\n",
              "      <td>237.0</td>\n",
              "      <td>2.9375</td>\n",
              "      <td>81700.0</td>\n",
              "    </tr>\n",
              "  </tbody>\n",
              "</table>\n",
              "</div>\n",
              "    <div class=\"colab-df-buttons\">\n",
              "\n",
              "  <div class=\"colab-df-container\">\n",
              "    <button class=\"colab-df-convert\" onclick=\"convertToInteractive('df-d958a5e8-549e-4e5a-8b9f-1d488fb56a18')\"\n",
              "            title=\"Convert this dataframe to an interactive table.\"\n",
              "            style=\"display:none;\">\n",
              "\n",
              "  <svg xmlns=\"http://www.w3.org/2000/svg\" height=\"24px\" viewBox=\"0 -960 960 960\">\n",
              "    <path d=\"M120-120v-720h720v720H120Zm60-500h600v-160H180v160Zm220 220h160v-160H400v160Zm0 220h160v-160H400v160ZM180-400h160v-160H180v160Zm440 0h160v-160H620v160ZM180-180h160v-160H180v160Zm440 0h160v-160H620v160Z\"/>\n",
              "  </svg>\n",
              "    </button>\n",
              "\n",
              "  <style>\n",
              "    .colab-df-container {\n",
              "      display:flex;\n",
              "      gap: 12px;\n",
              "    }\n",
              "\n",
              "    .colab-df-convert {\n",
              "      background-color: #E8F0FE;\n",
              "      border: none;\n",
              "      border-radius: 50%;\n",
              "      cursor: pointer;\n",
              "      display: none;\n",
              "      fill: #1967D2;\n",
              "      height: 32px;\n",
              "      padding: 0 0 0 0;\n",
              "      width: 32px;\n",
              "    }\n",
              "\n",
              "    .colab-df-convert:hover {\n",
              "      background-color: #E2EBFA;\n",
              "      box-shadow: 0px 1px 2px rgba(60, 64, 67, 0.3), 0px 1px 3px 1px rgba(60, 64, 67, 0.15);\n",
              "      fill: #174EA6;\n",
              "    }\n",
              "\n",
              "    .colab-df-buttons div {\n",
              "      margin-bottom: 4px;\n",
              "    }\n",
              "\n",
              "    [theme=dark] .colab-df-convert {\n",
              "      background-color: #3B4455;\n",
              "      fill: #D2E3FC;\n",
              "    }\n",
              "\n",
              "    [theme=dark] .colab-df-convert:hover {\n",
              "      background-color: #434B5C;\n",
              "      box-shadow: 0px 1px 3px 1px rgba(0, 0, 0, 0.15);\n",
              "      filter: drop-shadow(0px 1px 2px rgba(0, 0, 0, 0.3));\n",
              "      fill: #FFFFFF;\n",
              "    }\n",
              "  </style>\n",
              "\n",
              "    <script>\n",
              "      const buttonEl =\n",
              "        document.querySelector('#df-d958a5e8-549e-4e5a-8b9f-1d488fb56a18 button.colab-df-convert');\n",
              "      buttonEl.style.display =\n",
              "        google.colab.kernel.accessAllowed ? 'block' : 'none';\n",
              "\n",
              "      async function convertToInteractive(key) {\n",
              "        const element = document.querySelector('#df-d958a5e8-549e-4e5a-8b9f-1d488fb56a18');\n",
              "        const dataTable =\n",
              "          await google.colab.kernel.invokeFunction('convertToInteractive',\n",
              "                                                    [key], {});\n",
              "        if (!dataTable) return;\n",
              "\n",
              "        const docLinkHtml = 'Like what you see? Visit the ' +\n",
              "          '<a target=\"_blank\" href=https://colab.research.google.com/notebooks/data_table.ipynb>data table notebook</a>'\n",
              "          + ' to learn more about interactive tables.';\n",
              "        element.innerHTML = '';\n",
              "        dataTable['output_type'] = 'display_data';\n",
              "        await google.colab.output.renderOutput(dataTable, element);\n",
              "        const docLink = document.createElement('div');\n",
              "        docLink.innerHTML = docLinkHtml;\n",
              "        element.appendChild(docLink);\n",
              "      }\n",
              "    </script>\n",
              "  </div>\n",
              "\n",
              "\n",
              "<div id=\"df-54fbec9f-6096-4cde-a30d-de0d34bfc63f\">\n",
              "  <button class=\"colab-df-quickchart\" onclick=\"quickchart('df-54fbec9f-6096-4cde-a30d-de0d34bfc63f')\"\n",
              "            title=\"Suggest charts\"\n",
              "            style=\"display:none;\">\n",
              "\n",
              "<svg xmlns=\"http://www.w3.org/2000/svg\" height=\"24px\"viewBox=\"0 0 24 24\"\n",
              "     width=\"24px\">\n",
              "    <g>\n",
              "        <path d=\"M19 3H5c-1.1 0-2 .9-2 2v14c0 1.1.9 2 2 2h14c1.1 0 2-.9 2-2V5c0-1.1-.9-2-2-2zM9 17H7v-7h2v7zm4 0h-2V7h2v10zm4 0h-2v-4h2v4z\"/>\n",
              "    </g>\n",
              "</svg>\n",
              "  </button>\n",
              "\n",
              "<style>\n",
              "  .colab-df-quickchart {\n",
              "      --bg-color: #E8F0FE;\n",
              "      --fill-color: #1967D2;\n",
              "      --hover-bg-color: #E2EBFA;\n",
              "      --hover-fill-color: #174EA6;\n",
              "      --disabled-fill-color: #AAA;\n",
              "      --disabled-bg-color: #DDD;\n",
              "  }\n",
              "\n",
              "  [theme=dark] .colab-df-quickchart {\n",
              "      --bg-color: #3B4455;\n",
              "      --fill-color: #D2E3FC;\n",
              "      --hover-bg-color: #434B5C;\n",
              "      --hover-fill-color: #FFFFFF;\n",
              "      --disabled-bg-color: #3B4455;\n",
              "      --disabled-fill-color: #666;\n",
              "  }\n",
              "\n",
              "  .colab-df-quickchart {\n",
              "    background-color: var(--bg-color);\n",
              "    border: none;\n",
              "    border-radius: 50%;\n",
              "    cursor: pointer;\n",
              "    display: none;\n",
              "    fill: var(--fill-color);\n",
              "    height: 32px;\n",
              "    padding: 0;\n",
              "    width: 32px;\n",
              "  }\n",
              "\n",
              "  .colab-df-quickchart:hover {\n",
              "    background-color: var(--hover-bg-color);\n",
              "    box-shadow: 0 1px 2px rgba(60, 64, 67, 0.3), 0 1px 3px 1px rgba(60, 64, 67, 0.15);\n",
              "    fill: var(--button-hover-fill-color);\n",
              "  }\n",
              "\n",
              "  .colab-df-quickchart-complete:disabled,\n",
              "  .colab-df-quickchart-complete:disabled:hover {\n",
              "    background-color: var(--disabled-bg-color);\n",
              "    fill: var(--disabled-fill-color);\n",
              "    box-shadow: none;\n",
              "  }\n",
              "\n",
              "  .colab-df-spinner {\n",
              "    border: 2px solid var(--fill-color);\n",
              "    border-color: transparent;\n",
              "    border-bottom-color: var(--fill-color);\n",
              "    animation:\n",
              "      spin 1s steps(1) infinite;\n",
              "  }\n",
              "\n",
              "  @keyframes spin {\n",
              "    0% {\n",
              "      border-color: transparent;\n",
              "      border-bottom-color: var(--fill-color);\n",
              "      border-left-color: var(--fill-color);\n",
              "    }\n",
              "    20% {\n",
              "      border-color: transparent;\n",
              "      border-left-color: var(--fill-color);\n",
              "      border-top-color: var(--fill-color);\n",
              "    }\n",
              "    30% {\n",
              "      border-color: transparent;\n",
              "      border-left-color: var(--fill-color);\n",
              "      border-top-color: var(--fill-color);\n",
              "      border-right-color: var(--fill-color);\n",
              "    }\n",
              "    40% {\n",
              "      border-color: transparent;\n",
              "      border-right-color: var(--fill-color);\n",
              "      border-top-color: var(--fill-color);\n",
              "    }\n",
              "    60% {\n",
              "      border-color: transparent;\n",
              "      border-right-color: var(--fill-color);\n",
              "    }\n",
              "    80% {\n",
              "      border-color: transparent;\n",
              "      border-right-color: var(--fill-color);\n",
              "      border-bottom-color: var(--fill-color);\n",
              "    }\n",
              "    90% {\n",
              "      border-color: transparent;\n",
              "      border-bottom-color: var(--fill-color);\n",
              "    }\n",
              "  }\n",
              "</style>\n",
              "\n",
              "  <script>\n",
              "    async function quickchart(key) {\n",
              "      const quickchartButtonEl =\n",
              "        document.querySelector('#' + key + ' button');\n",
              "      quickchartButtonEl.disabled = true;  // To prevent multiple clicks.\n",
              "      quickchartButtonEl.classList.add('colab-df-spinner');\n",
              "      try {\n",
              "        const charts = await google.colab.kernel.invokeFunction(\n",
              "            'suggestCharts', [key], {});\n",
              "      } catch (error) {\n",
              "        console.error('Error during call to suggestCharts:', error);\n",
              "      }\n",
              "      quickchartButtonEl.classList.remove('colab-df-spinner');\n",
              "      quickchartButtonEl.classList.add('colab-df-quickchart-complete');\n",
              "    }\n",
              "    (() => {\n",
              "      let quickchartButtonEl =\n",
              "        document.querySelector('#df-54fbec9f-6096-4cde-a30d-de0d34bfc63f button');\n",
              "      quickchartButtonEl.style.display =\n",
              "        google.colab.kernel.accessAllowed ? 'block' : 'none';\n",
              "    })();\n",
              "  </script>\n",
              "</div>\n",
              "    </div>\n",
              "  </div>\n"
            ]
          },
          "metadata": {},
          "execution_count": 9
        }
      ]
    },
    {
      "cell_type": "code",
      "source": [
        "this_df.plot(x='median_house_value', y='total_rooms', style = 'o')\n",
        "plt.title(\"Median house value vs total_rooms\")\n",
        "plt.xlabel(\"Median house value\")\n",
        "plt.ylabel(\"total_rooms\")\n",
        "plt.show()"
      ],
      "metadata": {
        "colab": {
          "base_uri": "https://localhost:8080/",
          "height": 472
        },
        "id": "9GoRJhjT9dNd",
        "outputId": "1b4805cb-48b5-4bd8-b341-e01a6a1a9c64"
      },
      "execution_count": 10,
      "outputs": [
        {
          "output_type": "display_data",
          "data": {
            "text/plain": [
              "<Figure size 640x480 with 1 Axes>"
            ],
            "image/png": "[encoded data removed]"
          },
          "metadata": {}
        }
      ]
    },
    {
      "cell_type": "code",
      "source": [
        "this_df2=df[[\"median_house_value\",\"median_income\"]]\n",
        "this_df2.plot(x='median_house_value', y='median_income', style = 'o')\n",
        "plt.title(\"Median house value vs median_income\")\n",
        "plt.xlabel(\"Median house value\")\n",
        "plt.ylabel(\"median_income\")\n",
        "plt.show()"
      ],
      "metadata": {
        "colab": {
          "base_uri": "https://localhost:8080/",
          "height": 472
        },
        "id": "CPjl3fhgrQMd",
        "outputId": "af9592be-9b39-4a81-fc69-bd1c3530dd45"
      },
      "execution_count": 22,
      "outputs": [
        {
          "output_type": "display_data",
          "data": {
            "text/plain": [
              "<Figure size 640x480 with 1 Axes>"
            ],
            "image/png": "[encoded data removed]"
          },
          "metadata": {}
        }
      ]
    },
    {
      "cell_type": "code",
      "source": [
        "import numpy as np\n",
        "\n",
        "rs = np.random.RandomState(0)\n",
        "corr = df.corr()\n",
        "corr.style.background_gradient(cmap='coolwarm')\n",
        "# 'RdBu_r', 'BrBG_r', & PuOr_r are other good diverging colormaps"
      ],
      "metadata": {
        "colab": {
          "base_uri": "https://localhost:8080/",
          "height": 351
        },
        "id": "COUF1DLem68x",
        "outputId": "0eebf703-fa97-4753-e532-99ba9f63e3c6"
      },
      "execution_count": 11,
      "outputs": [
        {
          "output_type": "execute_result",
          "data": {
            "text/plain": [
              "<pandas.io.formats.style.Styler at 0x7e175213b0a0>"
            ],
            "text/html": [
              "<style type=\"text/css\">\n",
              "#T_7b370_row0_col0, #T_7b370_row1_col1, #T_7b370_row2_col2, #T_7b370_row3_col3, #T_7b370_row4_col4, #T_7b370_row5_col5, #T_7b370_row6_col6, #T_7b370_row7_col7, #T_7b370_row8_col8 {\n",
              "  background-color: #b40426;\n",
              "  color: #f1f1f1;\n",
              "}\n",
              "#T_7b370_row0_col1, #T_7b370_row1_col0, #T_7b370_row1_col8, #T_7b370_row2_col3, #T_7b370_row2_col4, #T_7b370_row2_col5, #T_7b370_row2_col6, #T_7b370_row2_col7, #T_7b370_row3_col2 {\n",
              "  background-color: #3b4cc0;\n",
              "  color: #f1f1f1;\n",
              "}\n",
              "#T_7b370_row0_col2 {\n",
              "  background-color: #82a6fb;\n",
              "  color: #f1f1f1;\n",
              "}\n",
              "#T_7b370_row0_col3, #T_7b370_row8_col4 {\n",
              "  background-color: #a1c0ff;\n",
              "  color: #000000;\n",
              "}\n",
              "#T_7b370_row0_col4 {\n",
              "  background-color: #9ebeff;\n",
              "  color: #000000;\n",
              "}\n",
              "#T_7b370_row0_col5, #T_7b370_row3_col7 {\n",
              "  background-color: #a5c3fe;\n",
              "  color: #000000;\n",
              "}\n",
              "#T_7b370_row0_col6, #T_7b370_row7_col6 {\n",
              "  background-color: #94b6ff;\n",
              "  color: #000000;\n",
              "}\n",
              "#T_7b370_row0_col7 {\n",
              "  background-color: #5d7ce6;\n",
              "  color: #f1f1f1;\n",
              "}\n",
              "#T_7b370_row0_col8 {\n",
              "  background-color: #516ddb;\n",
              "  color: #f1f1f1;\n",
              "}\n",
              "#T_7b370_row1_col2 {\n",
              "  background-color: #8db0fe;\n",
              "  color: #000000;\n",
              "}\n",
              "#T_7b370_row1_col3 {\n",
              "  background-color: #89acfd;\n",
              "  color: #000000;\n",
              "}\n",
              "#T_7b370_row1_col4, #T_7b370_row4_col8 {\n",
              "  background-color: #799cf8;\n",
              "  color: #f1f1f1;\n",
              "}\n",
              "#T_7b370_row1_col5 {\n",
              "  background-color: #6687ed;\n",
              "  color: #f1f1f1;\n",
              "}\n",
              "#T_7b370_row1_col6 {\n",
              "  background-color: #7597f6;\n",
              "  color: #f1f1f1;\n",
              "}\n",
              "#T_7b370_row1_col7 {\n",
              "  background-color: #4e68d8;\n",
              "  color: #f1f1f1;\n",
              "}\n",
              "#T_7b370_row2_col0 {\n",
              "  background-color: #cedaeb;\n",
              "  color: #000000;\n",
              "}\n",
              "#T_7b370_row2_col1 {\n",
              "  background-color: #d4dbe6;\n",
              "  color: #000000;\n",
              "}\n",
              "#T_7b370_row2_col8 {\n",
              "  background-color: #7b9ff9;\n",
              "  color: #f1f1f1;\n",
              "}\n",
              "#T_7b370_row3_col0, #T_7b370_row6_col0 {\n",
              "  background-color: #dedcdb;\n",
              "  color: #000000;\n",
              "}\n",
              "#T_7b370_row3_col1 {\n",
              "  background-color: #d2dbe8;\n",
              "  color: #000000;\n",
              "}\n",
              "#T_7b370_row3_col4 {\n",
              "  background-color: #c53334;\n",
              "  color: #f1f1f1;\n",
              "}\n",
              "#T_7b370_row3_col5 {\n",
              "  background-color: #dd5f4b;\n",
              "  color: #f1f1f1;\n",
              "}\n",
              "#T_7b370_row3_col6, #T_7b370_row6_col3 {\n",
              "  background-color: #cb3e38;\n",
              "  color: #f1f1f1;\n",
              "}\n",
              "#T_7b370_row3_col8, #T_7b370_row7_col4 {\n",
              "  background-color: #92b4fe;\n",
              "  color: #000000;\n",
              "}\n",
              "#T_7b370_row4_col0 {\n",
              "  background-color: #e1dad6;\n",
              "  color: #000000;\n",
              "}\n",
              "#T_7b370_row4_col1, #T_7b370_row6_col1, #T_7b370_row7_col1 {\n",
              "  background-color: #cdd9ec;\n",
              "  color: #000000;\n",
              "}\n",
              "#T_7b370_row4_col2 {\n",
              "  background-color: #445acc;\n",
              "  color: #f1f1f1;\n",
              "}\n",
              "#T_7b370_row4_col3 {\n",
              "  background-color: #c43032;\n",
              "  color: #f1f1f1;\n",
              "}\n",
              "#T_7b370_row4_col5 {\n",
              "  background-color: #d95847;\n",
              "  color: #f1f1f1;\n",
              "}\n",
              "#T_7b370_row4_col6, #T_7b370_row6_col4 {\n",
              "  background-color: #bb1b2c;\n",
              "  color: #f1f1f1;\n",
              "}\n",
              "#T_7b370_row4_col7 {\n",
              "  background-color: #688aef;\n",
              "  color: #f1f1f1;\n",
              "}\n",
              "#T_7b370_row5_col0 {\n",
              "  background-color: #e6d7cf;\n",
              "  color: #000000;\n",
              "}\n",
              "#T_7b370_row5_col1 {\n",
              "  background-color: #c6d6f1;\n",
              "  color: #000000;\n",
              "}\n",
              "#T_7b370_row5_col2 {\n",
              "  background-color: #4961d2;\n",
              "  color: #f1f1f1;\n",
              "}\n",
              "#T_7b370_row5_col3 {\n",
              "  background-color: #dc5d4a;\n",
              "  color: #f1f1f1;\n",
              "}\n",
              "#T_7b370_row5_col4 {\n",
              "  background-color: #d85646;\n",
              "  color: #f1f1f1;\n",
              "}\n",
              "#T_7b370_row5_col6, #T_7b370_row6_col5 {\n",
              "  background-color: #d0473d;\n",
              "  color: #f1f1f1;\n",
              "}\n",
              "#T_7b370_row5_col7 {\n",
              "  background-color: #6b8df0;\n",
              "  color: #f1f1f1;\n",
              "}\n",
              "#T_7b370_row5_col8 {\n",
              "  background-color: #5f7fe8;\n",
              "  color: #f1f1f1;\n",
              "}\n",
              "#T_7b370_row6_col2 {\n",
              "  background-color: #485fd1;\n",
              "  color: #f1f1f1;\n",
              "}\n",
              "#T_7b370_row6_col7 {\n",
              "  background-color: #7093f3;\n",
              "  color: #f1f1f1;\n",
              "}\n",
              "#T_7b370_row6_col8 {\n",
              "  background-color: #7ea1fa;\n",
              "  color: #f1f1f1;\n",
              "}\n",
              "#T_7b370_row7_col0 {\n",
              "  background-color: #d5dbe5;\n",
              "  color: #000000;\n",
              "}\n",
              "#T_7b370_row7_col2 {\n",
              "  background-color: #6e90f2;\n",
              "  color: #f1f1f1;\n",
              "}\n",
              "#T_7b370_row7_col3 {\n",
              "  background-color: #cad8ef;\n",
              "  color: #000000;\n",
              "}\n",
              "#T_7b370_row7_col5 {\n",
              "  background-color: #8fb1fe;\n",
              "  color: #000000;\n",
              "}\n",
              "#T_7b370_row7_col8, #T_7b370_row8_col7 {\n",
              "  background-color: #f7a889;\n",
              "  color: #000000;\n",
              "}\n",
              "#T_7b370_row8_col0 {\n",
              "  background-color: #d1dae9;\n",
              "  color: #000000;\n",
              "}\n",
              "#T_7b370_row8_col1 {\n",
              "  background-color: #c3d5f4;\n",
              "  color: #000000;\n",
              "}\n",
              "#T_7b370_row8_col2 {\n",
              "  background-color: #aac7fd;\n",
              "  color: #000000;\n",
              "}\n",
              "#T_7b370_row8_col3 {\n",
              "  background-color: #bbd1f8;\n",
              "  color: #000000;\n",
              "}\n",
              "#T_7b370_row8_col5 {\n",
              "  background-color: #85a8fc;\n",
              "  color: #f1f1f1;\n",
              "}\n",
              "#T_7b370_row8_col6 {\n",
              "  background-color: #a2c1ff;\n",
              "  color: #000000;\n",
              "}\n",
              "</style>\n",
              "<table id=\"T_7b370\" class=\"dataframe\">\n",
              "  <thead>\n",
              "    <tr>\n",
              "      <th class=\"blank level0\" >&nbsp;</th>\n",
              "      <th id=\"T_7b370_level0_col0\" class=\"col_heading level0 col0\" >longitude</th>\n",
              "      <th id=\"T_7b370_level0_col1\" class=\"col_heading level0 col1\" >latitude</th>\n",
              "      <th id=\"T_7b370_level0_col2\" class=\"col_heading level0 col2\" >housing_median_age</th>\n",
              "      <th id=\"T_7b370_level0_col3\" class=\"col_heading level0 col3\" >total_rooms</th>\n",
              "      <th id=\"T_7b370_level0_col4\" class=\"col_heading level0 col4\" >total_bedrooms</th>\n",
              "      <th id=\"T_7b370_level0_col5\" class=\"col_heading level0 col5\" >population</th>\n",
              "      <th id=\"T_7b370_level0_col6\" class=\"col_heading level0 col6\" >households</th>\n",
              "      <th id=\"T_7b370_level0_col7\" class=\"col_heading level0 col7\" >median_income</th>\n",
              "      <th id=\"T_7b370_level0_col8\" class=\"col_heading level0 col8\" >median_house_value</th>\n",
              "    </tr>\n",
              "  </thead>\n",
              "  <tbody>\n",
              "    <tr>\n",
              "      <th id=\"T_7b370_level0_row0\" class=\"row_heading level0 row0\" >longitude</th>\n",
              "      <td id=\"T_7b370_row0_col0\" class=\"data row0 col0\" >1.000000</td>\n",
              "      <td id=\"T_7b370_row0_col1\" class=\"data row0 col1\" >-0.925017</td>\n",
              "      <td id=\"T_7b370_row0_col2\" class=\"data row0 col2\" >-0.064203</td>\n",
              "      <td id=\"T_7b370_row0_col3\" class=\"data row0 col3\" >0.049865</td>\n",
              "      <td id=\"T_7b370_row0_col4\" class=\"data row0 col4\" >0.070869</td>\n",
              "      <td id=\"T_7b370_row0_col5\" class=\"data row0 col5\" >0.111572</td>\n",
              "      <td id=\"T_7b370_row0_col6\" class=\"data row0 col6\" >0.051062</td>\n",
              "      <td id=\"T_7b370_row0_col7\" class=\"data row0 col7\" >-0.018701</td>\n",
              "      <td id=\"T_7b370_row0_col8\" class=\"data row0 col8\" >-0.050662</td>\n",
              "    </tr>\n",
              "    <tr>\n",
              "      <th id=\"T_7b370_level0_row1\" class=\"row_heading level0 row1\" >latitude</th>\n",
              "      <td id=\"T_7b370_row1_col0\" class=\"data row1 col0\" >-0.925017</td>\n",
              "      <td id=\"T_7b370_row1_col1\" class=\"data row1 col1\" >1.000000</td>\n",
              "      <td id=\"T_7b370_row1_col2\" class=\"data row1 col2\" >-0.025143</td>\n",
              "      <td id=\"T_7b370_row1_col3\" class=\"data row1 col3\" >-0.039632</td>\n",
              "      <td id=\"T_7b370_row1_col4\" class=\"data row1 col4\" >-0.068245</td>\n",
              "      <td id=\"T_7b370_row1_col5\" class=\"data row1 col5\" >-0.117318</td>\n",
              "      <td id=\"T_7b370_row1_col6\" class=\"data row1 col6\" >-0.068296</td>\n",
              "      <td id=\"T_7b370_row1_col7\" class=\"data row1 col7\" >-0.072363</td>\n",
              "      <td id=\"T_7b370_row1_col8\" class=\"data row1 col8\" >-0.138428</td>\n",
              "    </tr>\n",
              "    <tr>\n",
              "      <th id=\"T_7b370_level0_row2\" class=\"row_heading level0 row2\" >housing_median_age</th>\n",
              "      <td id=\"T_7b370_row2_col0\" class=\"data row2 col0\" >-0.064203</td>\n",
              "      <td id=\"T_7b370_row2_col1\" class=\"data row2 col1\" >-0.025143</td>\n",
              "      <td id=\"T_7b370_row2_col2\" class=\"data row2 col2\" >1.000000</td>\n",
              "      <td id=\"T_7b370_row2_col3\" class=\"data row2 col3\" >-0.367850</td>\n",
              "      <td id=\"T_7b370_row2_col4\" class=\"data row2 col4\" >-0.323154</td>\n",
              "      <td id=\"T_7b370_row2_col5\" class=\"data row2 col5\" >-0.299888</td>\n",
              "      <td id=\"T_7b370_row2_col6\" class=\"data row2 col6\" >-0.305171</td>\n",
              "      <td id=\"T_7b370_row2_col7\" class=\"data row2 col7\" >-0.144315</td>\n",
              "      <td id=\"T_7b370_row2_col8\" class=\"data row2 col8\" >0.091409</td>\n",
              "    </tr>\n",
              "    <tr>\n",
              "      <th id=\"T_7b370_level0_row3\" class=\"row_heading level0 row3\" >total_rooms</th>\n",
              "      <td id=\"T_7b370_row3_col0\" class=\"data row3 col0\" >0.049865</td>\n",
              "      <td id=\"T_7b370_row3_col1\" class=\"data row3 col1\" >-0.039632</td>\n",
              "      <td id=\"T_7b370_row3_col2\" class=\"data row3 col2\" >-0.367850</td>\n",
              "      <td id=\"T_7b370_row3_col3\" class=\"data row3 col3\" >1.000000</td>\n",
              "      <td id=\"T_7b370_row3_col4\" class=\"data row3 col4\" >0.937749</td>\n",
              "      <td id=\"T_7b370_row3_col5\" class=\"data row3 col5\" >0.838867</td>\n",
              "      <td id=\"T_7b370_row3_col6\" class=\"data row3 col6\" >0.914116</td>\n",
              "      <td id=\"T_7b370_row3_col7\" class=\"data row3 col7\" >0.221249</td>\n",
              "      <td id=\"T_7b370_row3_col8\" class=\"data row3 col8\" >0.160427</td>\n",
              "    </tr>\n",
              "    <tr>\n",
              "      <th id=\"T_7b370_level0_row4\" class=\"row_heading level0 row4\" >total_bedrooms</th>\n",
              "      <td id=\"T_7b370_row4_col0\" class=\"data row4 col0\" >0.070869</td>\n",
              "      <td id=\"T_7b370_row4_col1\" class=\"data row4 col1\" >-0.068245</td>\n",
              "      <td id=\"T_7b370_row4_col2\" class=\"data row4 col2\" >-0.323154</td>\n",
              "      <td id=\"T_7b370_row4_col3\" class=\"data row4 col3\" >0.937749</td>\n",
              "      <td id=\"T_7b370_row4_col4\" class=\"data row4 col4\" >1.000000</td>\n",
              "      <td id=\"T_7b370_row4_col5\" class=\"data row4 col5\" >0.856387</td>\n",
              "      <td id=\"T_7b370_row4_col6\" class=\"data row4 col6\" >0.970758</td>\n",
              "      <td id=\"T_7b370_row4_col7\" class=\"data row4 col7\" >0.024025</td>\n",
              "      <td id=\"T_7b370_row4_col8\" class=\"data row4 col8\" >0.082279</td>\n",
              "    </tr>\n",
              "    <tr>\n",
              "      <th id=\"T_7b370_level0_row5\" class=\"row_heading level0 row5\" >population</th>\n",
              "      <td id=\"T_7b370_row5_col0\" class=\"data row5 col0\" >0.111572</td>\n",
              "      <td id=\"T_7b370_row5_col1\" class=\"data row5 col1\" >-0.117318</td>\n",
              "      <td id=\"T_7b370_row5_col2\" class=\"data row5 col2\" >-0.299888</td>\n",
              "      <td id=\"T_7b370_row5_col3\" class=\"data row5 col3\" >0.838867</td>\n",
              "      <td id=\"T_7b370_row5_col4\" class=\"data row5 col4\" >0.856387</td>\n",
              "      <td id=\"T_7b370_row5_col5\" class=\"data row5 col5\" >1.000000</td>\n",
              "      <td id=\"T_7b370_row5_col6\" class=\"data row5 col6\" >0.895530</td>\n",
              "      <td id=\"T_7b370_row5_col7\" class=\"data row5 col7\" >0.032361</td>\n",
              "      <td id=\"T_7b370_row5_col8\" class=\"data row5 col8\" >-0.001192</td>\n",
              "    </tr>\n",
              "    <tr>\n",
              "      <th id=\"T_7b370_level0_row6\" class=\"row_heading level0 row6\" >households</th>\n",
              "      <td id=\"T_7b370_row6_col0\" class=\"data row6 col0\" >0.051062</td>\n",
              "      <td id=\"T_7b370_row6_col1\" class=\"data row6 col1\" >-0.068296</td>\n",
              "      <td id=\"T_7b370_row6_col2\" class=\"data row6 col2\" >-0.305171</td>\n",
              "      <td id=\"T_7b370_row6_col3\" class=\"data row6 col3\" >0.914116</td>\n",
              "      <td id=\"T_7b370_row6_col4\" class=\"data row6 col4\" >0.970758</td>\n",
              "      <td id=\"T_7b370_row6_col5\" class=\"data row6 col5\" >0.895530</td>\n",
              "      <td id=\"T_7b370_row6_col6\" class=\"data row6 col6\" >1.000000</td>\n",
              "      <td id=\"T_7b370_row6_col7\" class=\"data row6 col7\" >0.048625</td>\n",
              "      <td id=\"T_7b370_row6_col8\" class=\"data row6 col8\" >0.100176</td>\n",
              "    </tr>\n",
              "    <tr>\n",
              "      <th id=\"T_7b370_level0_row7\" class=\"row_heading level0 row7\" >median_income</th>\n",
              "      <td id=\"T_7b370_row7_col0\" class=\"data row7 col0\" >-0.018701</td>\n",
              "      <td id=\"T_7b370_row7_col1\" class=\"data row7 col1\" >-0.072363</td>\n",
              "      <td id=\"T_7b370_row7_col2\" class=\"data row7 col2\" >-0.144315</td>\n",
              "      <td id=\"T_7b370_row7_col3\" class=\"data row7 col3\" >0.221249</td>\n",
              "      <td id=\"T_7b370_row7_col4\" class=\"data row7 col4\" >0.024025</td>\n",
              "      <td id=\"T_7b370_row7_col5\" class=\"data row7 col5\" >0.032361</td>\n",
              "      <td id=\"T_7b370_row7_col6\" class=\"data row7 col6\" >0.048625</td>\n",
              "      <td id=\"T_7b370_row7_col7\" class=\"data row7 col7\" >1.000000</td>\n",
              "      <td id=\"T_7b370_row7_col8\" class=\"data row7 col8\" >0.672695</td>\n",
              "    </tr>\n",
              "    <tr>\n",
              "      <th id=\"T_7b370_level0_row8\" class=\"row_heading level0 row8\" >median_house_value</th>\n",
              "      <td id=\"T_7b370_row8_col0\" class=\"data row8 col0\" >-0.050662</td>\n",
              "      <td id=\"T_7b370_row8_col1\" class=\"data row8 col1\" >-0.138428</td>\n",
              "      <td id=\"T_7b370_row8_col2\" class=\"data row8 col2\" >0.091409</td>\n",
              "      <td id=\"T_7b370_row8_col3\" class=\"data row8 col3\" >0.160427</td>\n",
              "      <td id=\"T_7b370_row8_col4\" class=\"data row8 col4\" >0.082279</td>\n",
              "      <td id=\"T_7b370_row8_col5\" class=\"data row8 col5\" >-0.001192</td>\n",
              "      <td id=\"T_7b370_row8_col6\" class=\"data row8 col6\" >0.100176</td>\n",
              "      <td id=\"T_7b370_row8_col7\" class=\"data row8 col7\" >0.672695</td>\n",
              "      <td id=\"T_7b370_row8_col8\" class=\"data row8 col8\" >1.000000</td>\n",
              "    </tr>\n",
              "  </tbody>\n",
              "</table>\n"
            ]
          },
          "metadata": {},
          "execution_count": 11
        }
      ]
    },
    {
      "cell_type": "markdown",
      "source": [
        "LINEAR REGRESSOR"
      ],
      "metadata": {
        "id": "kU5L87yyY-1b"
      }
    },
    {
      "cell_type": "code",
      "source": [
        "x = df.drop(columns = ['total_rooms','median_income','households','total_bedrooms','households'])\n",
        "y = df['median_house_value']"
      ],
      "metadata": {
        "id": "2pHl3iCm9jcD"
      },
      "execution_count": 12,
      "outputs": []
    },
    {
      "cell_type": "code",
      "source": [
        "x_train, x_test, y_train, y_test = train_test_split(x, y, test_size=0.2, random_state=0)\n"
      ],
      "metadata": {
        "id": "x3dXANcc9oTB"
      },
      "execution_count": 13,
      "outputs": []
    },
    {
      "cell_type": "code",
      "source": [
        "regresor = LinearRegression()\n",
        "regresor.fit(x_train, y_train)\n",
        "y_pred_LinearRegression=regresor.predict(x_test)\n",
        "dfe = pd.DataFrame({'Actual': [y_test], 'Predicted': [y_pred_LinearRegression]})\n",
        "dfe\n",
        "print(\"MSE (Linear Regression)\", mean_squared_error(y_test,y_pred_LinearRegression))\n",
        "print(\"RMSE (Linear Regression)\", math.sqrt(mean_squared_error(y_test,y_pred_LinearRegression)))\n",
        "\n"
      ],
      "metadata": {
        "colab": {
          "base_uri": "https://localhost:8080/"
        },
        "id": "i6T4siPR9vwG",
        "outputId": "a29130a8-be3b-4442-8681-d77e4e8c8d2c"
      },
      "execution_count": 14,
      "outputs": [
        {
          "output_type": "stream",
          "name": "stdout",
          "text": [
            "MSE (Linear Regression) 1.0162630715078158e-20\n",
            "RMSE (Linear Regression) 1.0080987409514088e-10\n"
          ]
        }
      ]
    },
    {
      "cell_type": "code",
      "source": [
        "from sklearn import metrics"
      ],
      "metadata": {
        "id": "Nb2wCcJusuEZ"
      },
      "execution_count": 15,
      "outputs": []
    },
    {
      "cell_type": "code",
      "source": [
        "regresor = LinearRegression()\n",
        "regresor.fit(x_train, y_train)\n",
        "y_pred_LinearRegression=regresor.predict(x_test)\n",
        "dfe = pd.DataFrame({'Actual': [y_test], 'Predicted': [y_pred_LinearRegression]})\n",
        "dfe\n",
        "print(\"MSE (Linear Regression)\", mean_squared_error(y_test,y_pred_LinearRegression))\n",
        "print(\"RMSE (Linear Regression)\", math.sqrt(mean_squared_error(y_test,y_pred_LinearRegression)))\n",
        "\n",
        "errors = abs(y_pred_LinearRegression - y_test)\n",
        "mape = 100 * (errors / y_test)\n",
        "accuracy = 100 - np.mean(y_test)\n",
        "print('Accuracy:', round(accuracy, 2), '%.')"
      ],
      "metadata": {
        "colab": {
          "base_uri": "https://localhost:8080/"
        },
        "id": "kfoMRFeZsHmh",
        "outputId": "ee43bae9-d6a4-46c3-f07b-c7998fcfc465"
      },
      "execution_count": 16,
      "outputs": [
        {
          "output_type": "stream",
          "name": "stdout",
          "text": [
            "MSE (Linear Regression) 1.0162630715078158e-20\n",
            "RMSE (Linear Regression) 1.0080987409514088e-10\n",
            "Accuracy: -209895.05 %.\n"
          ]
        }
      ]
    },
    {
      "cell_type": "markdown",
      "source": [
        "RAMDOM FOREST REGRESSOR"
      ],
      "metadata": {
        "id": "khkNBdUPYtDi"
      }
    },
    {
      "cell_type": "code",
      "source": [
        "from sklearn.ensemble import RandomForestRegressor\n",
        "rf_regressor = RandomForestRegressor()\n",
        "rf_regressor.fit(x_train, y_train)\n",
        "y_pred_random_forest = rf_regressor.predict(x_test)\n",
        "print(\"MSE (Random Forest):\", mean_squared_error(y_test, y_pred_random_forest))\n",
        "print(\"RMSE (Random Forest)\", math.sqrt(mean_squared_error(y_test,y_pred_random_forest)))"
      ],
      "metadata": {
        "colab": {
          "base_uri": "https://localhost:8080/"
        },
        "id": "5QxdAzi_lYg4",
        "outputId": "e4cbaf75-4a14-4ac9-d4c4-cd091aa045b2"
      },
      "execution_count": 17,
      "outputs": [
        {
          "output_type": "stream",
          "name": "stdout",
          "text": [
            "MSE (Random Forest): 71290.6897335\n",
            "RMSE (Random Forest) 267.00316427619356\n"
          ]
        }
      ]
    },
    {
      "cell_type": "code",
      "source": [
        "from sklearn.tree import DecisionTreeRegressor\n",
        "dt_regressor = DecisionTreeRegressor()\n",
        "dt_regressor.fit(x_train, y_train)\n",
        "y_pred_decision_tree = dt_regressor.predict(x_test)\n",
        "mse_decision_tree = mean_squared_error(y_test, y_pred_decision_tree)\n",
        "print(\"MSE (Decision Tree):\", mse_decision_tree)\n",
        "rmse_decision_tree = math.sqrt(mse_decision_tree)\n",
        "print(\"RMSE (Decision Tree):\", rmse_decision_tree)"
      ],
      "metadata": {
        "colab": {
          "base_uri": "https://localhost:8080/"
        },
        "id": "6_erIG4NmqVd",
        "outputId": "9bdea01c-c84e-428e-8ac8-5d161c29832e"
      },
      "execution_count": 18,
      "outputs": [
        {
          "output_type": "stream",
          "name": "stdout",
          "text": [
            "MSE (Decision Tree): 213666.66666666666\n",
            "RMSE (Decision Tree): 462.24091842530197\n"
          ]
        }
      ]
    },
    {
      "cell_type": "code",
      "source": [
        "from sklearn.svm import SVR\n",
        "from sklearn.metrics import mean_squared_error\n",
        "import numpy as np\n",
        "svm_regressor = SVR(kernel='rbf')\n",
        "svm_regressor.fit(x_train, y_train)\n",
        "y_pred_svm = svm_regressor.predict(x_test)\n",
        "mse_svm = mean_squared_error(y_test, y_pred_svm)\n",
        "print(\"MSE (SVM):\", mse_svm)\n",
        "rmse_svm = np.sqrt(mse_svm)\n",
        "print(\"RMSE (SVM):\", rmse_svm)"
      ],
      "metadata": {
        "colab": {
          "base_uri": "https://localhost:8080/"
        },
        "id": "xRgiA1XOm9un",
        "outputId": "094119b9-1c3f-4130-c087-344ec0944ade"
      },
      "execution_count": 19,
      "outputs": [
        {
          "output_type": "stream",
          "name": "stdout",
          "text": [
            "MSE (SVM): 14501772060.587603\n",
            "RMSE (SVM): 120423.30364421831\n"
          ]
        }
      ]
    },
    {
      "cell_type": "code",
      "source": [
        "from sklearn.ensemble import GradientBoostingRegressor\n",
        "from sklearn.metrics import mean_squared_error\n",
        "import numpy as np\n",
        "gb_regressor = GradientBoostingRegressor()\n",
        "gb_regressor.fit(x_train, y_train)\n",
        "y_pred_gradient_boosting = gb_regressor.predict(x_test)\n",
        "mse_gradient_boosting = mean_squared_error(y_test, y_pred_gradient_boosting)\n",
        "print(\"MSE (Gradient Boosting):\", mse_gradient_boosting)\n",
        "rmse_gradient_boosting = np.sqrt(mse_gradient_boosting)\n",
        "print(\"RMSE (Gradient Boosting):\", rmse_gradient_boosting)"
      ],
      "metadata": {
        "colab": {
          "base_uri": "https://localhost:8080/"
        },
        "id": "Wfb2S6VunPNR",
        "outputId": "1fa146ad-a58c-4382-987d-7f75ef57a06e"
      },
      "execution_count": 20,
      "outputs": [
        {
          "output_type": "stream",
          "name": "stdout",
          "text": [
            "MSE (Gradient Boosting): 819405.6636768461\n",
            "RMSE (Gradient Boosting): 905.2102869923906\n"
          ]
        }
      ]
    },
    {
      "cell_type": "markdown",
      "source": [
        "Note: MSE and RMSE are too high, what can be done to reduce?"
      ],
      "metadata": {
        "id": "pdYIndYKfLui"
      }
    },
    {
      "cell_type": "markdown",
      "source": [
        "Gradient Boosting Regression"
      ],
      "metadata": {
        "id": "8xUzZ8HAZeRR"
      }
    },
    {
      "cell_type": "code",
      "source": [
        "test_score = np.zeros((gb_regressor.n_estimators,), dtype=np.float64)\n",
        "for i, y_pred in enumerate(gb_regressor.staged_predict(x_test)):\n",
        "    test_score[i] = mean_squared_error(y_test, y_pred)\n",
        "\n",
        "fig = plt.figure(figsize=(6, 6))\n",
        "plt.subplot(1, 1, 1)\n",
        "plt.title(\"Deviance\")\n",
        "plt.plot(\n",
        "    np.arange(gb_regressor.n_estimators) + 1,\n",
        "    gb_regressor.train_score_,\n",
        "    \"b-\",\n",
        "    label=\"Training Set Deviance\",\n",
        ")\n",
        "plt.plot(\n",
        "    np.arange(gb_regressor.n_estimators) + 1, test_score, \"r-\", label=\"Test Set Deviance\"\n",
        ")\n",
        "plt.legend(loc=\"upper right\")\n",
        "plt.xlabel(\"Boosting Iterations\")\n",
        "plt.ylabel(\"Deviance\")\n",
        "fig.tight_layout()\n",
        "plt.show()"
      ],
      "metadata": {
        "colab": {
          "base_uri": "https://localhost:8080/",
          "height": 607
        },
        "id": "A86uF1ZDadmp",
        "outputId": "aeec0be8-8212-48e3-9f3d-5b2322c98d2c"
      },
      "execution_count": 23,
      "outputs": [
        {
          "output_type": "display_data",
          "data": {
            "text/plain": [
              "<Figure size 600x600 with 1 Axes>"
            ],
            "image/png": "[encoded data removed]"
          },
          "metadata": {}
        }
      ]
    },
    {
      "cell_type": "code",
      "source": [],
      "metadata": {
        "id": "vgmzHl-9aj-a"
      },
      "execution_count": null,
      "outputs": []
    }
  ]
}